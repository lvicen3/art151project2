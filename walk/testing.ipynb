{
 "metadata": {
  "language_info": {
   "codemirror_mode": {
    "name": "ipython",
    "version": 3
   },
   "file_extension": ".py",
   "mimetype": "text/x-python",
   "name": "python",
   "nbconvert_exporter": "python",
   "pygments_lexer": "ipython3",
   "version": "3.7.9-final"
  },
  "orig_nbformat": 2,
  "kernelspec": {
   "name": "Python 3.7.9 64-bit ('Art1512': conda)",
   "display_name": "Python 3.7.9 64-bit ('Art1512': conda)",
   "metadata": {
    "interpreter": {
     "hash": "8a9ee9477748b9eb4586e1c8cea3e34f71ab4ea972e6ebe75411973c578029a1"
    }
   }
  }
 },
 "nbformat": 4,
 "nbformat_minor": 2,
 "cells": [
  {
   "cell_type": "code",
   "execution_count": 6,
   "metadata": {},
   "outputs": [],
   "source": [
    "# Dependencies\n",
    "from bs4 import BeautifulSoup\n",
    "import requests\n",
    "import re"
   ]
  },
  {
   "cell_type": "code",
   "execution_count": 7,
   "metadata": {
    "tags": []
   },
   "outputs": [
    {
     "output_type": "stream",
     "name": "stdout",
     "text": [
      "\n\n\n\n\n\n\nUIC Faculty Say Fall Plan Prioritizes Campus Reopening Over ‘Saving Lives and Preventing Illness’ – Block Club Chicago\n\n\n\n\n\n\n \n\n\n\n\n\n\n\n\n\n\n\n\n\n\n\n\n\n\n\n\n\n\n\n\n\n\n\n\n\n\n\n\n\n\n\n\n\n\n\n\n\n\n\n\n\n\n\n\n\n\n\n\n\n\n\n\n\nSkip to content\n\n\n\n\n\n\n\nNeighborhoods\n\nAlbany Park\nAustin, Garfield Park, North Lawndale\nBack of the Yards\nBelmont Cragin, Hermosa\nBeverly, Mt. Greenwood, Morgan Park\nBridgeport, Chinatown, McKinley Park\nBronzeville, Near South Side\nDowntown\nEdgebrook, Edison Park, Sauganash\nEnglewood, Chatham, Auburn Gresham\nHyde Park, Woodlawn, South Shore\nJefferson Park, Portage Park\nLakeview, Boystown, Wrigleyville\nLincoln Park, Old Town\nLincoln Square, North Center, Irving Park\nLogan Square, Humboldt Park, Avondale\nMidway, West Lawn\nPilsen, Little Village, West Loop\nRoseland, Pullman\nSouth Chicago, East Side\nUptown, Edgewater, Rogers Park\nWicker Park, Bucktown, West Town\n\n\nSend News Tips\nShop\nMy Account\nDonate\n\n\n\n\nSearch\n\n\n\n\n\t\tSearch\t\n\n\n\n\n\n\nSubscribe \n\n\n\n\nNewsroom Navigation\n\n\n\n\n\n\n\n\n\n\n\n\nThe University of Illinois at Chicago has returned with a hybrid plan of in-person and online courses for the fall semester.Mauricio Peña/ Block Club Chicago \n\n\n\nUIC Faculty Say Fall Plan Prioritizes Campus Reopening Over ‘Saving Lives and Preventing Illness’\nFreshmen are asked to take at least one in-person class this semester, but faculty say they don't believe the campus is \"reasonably safe\" for any in-person learning.\nPublished on Aug 25, 2020 9:00AM CDT\nPilsen, Little Village, West Loop Primary category in which blog post is published\n\n\n\n\n\n\n\n\n\n\n\n\n\n\t\t\t\t\t\tMauricio Peña\t\t\t\t\t\n\n@MauricioPena\n\n\n\n\n\t\t\t\t\t\tPilsen, Little Village and West Loop reporter\n\nmauricio@blockclubchi.org \n\n\t\t\t\t\t\tSee more\t\t\t\t\t\n\n\n\n\n\n\n\n\n\nShare this:Click to share on Facebook (Opens in new window)Click to share on Reddit (Opens in new window)Click to share on Twitter (Opens in new window)Click to share on WhatsApp (Opens in new window) \n\n\n\n\n\n\n\nCredibility Indicators\nThese are selected by the writer and confirmed by the editor\n\n\n\n\n\nOriginal Reporting\n\n–\n+\n\n\n\n\t\t\t\t\tThis article contains new, firsthand information uncovered by its reporter(s). This includes directly interviewing sources and research / analysis of primary source documents.\t\t\t\t\n\n\n\n\nSources Cited\n\n–\n+\n\n\n\n\t\t\t\t\tAs a news piece, this article cites verifiable, third-party sources which have all been thoroughly fact-checked and deemed credible by the Newsroom in accordance with the Civil Constitution.\t\t\t\t\n\n\n\t\t\tLearn more about Civil’s Credibility Indicators\t\t\n\n\n\n\n\nUNIVERSITY VILLAGE — As college students returned to dorms last week and classes resumed Monday, a faculty union at the University of Illinois at Chicago is raising concerns about the university’s plan as coronavirus continues to spread.\nUIC’s fall semester kicked off Monday under a hybrid plan of in-person and online classes. While professors are eager to serve students, they have “no confidence the campus is reasonably safe” for in-person learning this fall, according to UIC United Faculty leaders, a union representing professors. \nUnder the university’s plan, all freshmen are asked to take at least one in-person on campus “to build a connection to the campus and a sense of community with their peers,” according to the university’s Circle Back to Campus plan.\nIn a statement, union leaders said the university’s plan only meets the the minimum standards for reopening. The university is prioritizing opening over “saving lives and preventing illness,” the group said. \n“We should never put our students, staff, faculty and all of their families at unnecessary risk,” union leaders said.\nUniversities throughout the country are grappling with how — or if — they can open their campuses this fall. Many that allowed in-person classes, or planned to, quickly have reversed course because of rising coronavirus infections on campuses.\nUniversity of Notre Dame suspended in-person classes, closed public spaces and restricted dorm access after dozens of students tested positive for the virus in the first few days of class. University of North Carolina at Chapel Hill sent students home after one week and shifted to online classes. Two weeks before the start of class, Michigan State University also is shifting to remote education after university leaders asked undergraduates not to come to campus.\nIn Chicago, Loyola University has closed its dorms and plans to host most classes online. DePaul University plans to offer classes in-person and online.\nAt UIC, students, staff and faculty will be required to wear face coverings on campus. The university will also mandate a physical distance of six feet between students in classrooms and limit the size of gatherings.\nThe school is conducting mandatory saliva-based COVID-19 tests for students living on campus, student athletes, athletic staff and performing arts faculty and students in an attempt to stymie further transmission of the disease. Voluntary testing of other students and staff is also ongoing, UIC Chancellor Michael D. Amiridis said.\nAmong the nearly 1,000 people tested, 983 people tested negative and three tested positive for coronavirus. More testing is planned beginning Aug. 24, according to a letter.\nWith more testing, Amiridis said they expect there will be more positive cases, which is why they are activating a contract tracing team at the UIC School of Public Health. \nStudents, staff and faculty at UIC are also required to complete an online COVID-19 Safety Training and a wellness screening every day they are on campus, according to the university.\nThe University of Illinois at ChicagoMauricio Peña/ Block Club Chicago\nBut some faculty members said those precautions aren’t enough.\nFaculty members say they are “troubled” that support and custodial staff don’t have enough personal protective equipment to carry out current safety plans. \nTesting and tracing programs are also “insufficient to stop an outbreak on campus from spreading widely back to various communities where we and our students work and live,” the professors argue. \nUIC Spokeswoman Sherri McGinnis Gonzalez said the university shares “common concerns” as local unions about the “availability and acquisition of effective PPE and safe working conditions.”\nMcGinnis Gonzalez said the university had “expressed and reaffirmed commitment to the UIC community to secure proper PPE for faculty, staff and students whose jobs require it.”\nShe also said the school was taking various measures including coroanvirus safety training, implementing daily wellness checks, and implementing additional cleaning measures across campus.\nThe University of Illinois at Chicago has resumed classes with a hybrid in-person and online courses for the fall semester.Mauricio Peña/ Block Club Chicago\nOn Monday afternoon, a handful of students walking on the nearly empty campus said they mostly approved of the current setup. \nAshley Soderlund, an MBA graduate student, welcomed the university shifting to mostly online courses. She was happy to take an in-person class during the fall quarter on a subject she had “zero experience” in because she could ask questions on the spot.\nBut she felt professors shouldn’t be “forced to teach in-person,” especially if they have a pre-existing condition or live with family members with health conditions.\nJunior Dion Asimi said he was comfortable with the precautions taken by the school. Asimi, whose classes are all online, said he might be open to taking in-person classes “depending on how many people” were present.\nBrittany Jones, a junior studying marketing, said she didn’t have any in-person classes for the semester, calling it “a smart” move. Jones said her class size often range from 50 to 400 students, so it’s best there aren’t in-person sessions.\nThe school was taking extra precautions like having students reserve library space ahead of time, Jones said.\nKlarizza Peña, a junior studying accounting said all her courses were online, which an advisor said was done to “ensure the safety of the students.”\n“I didn’t even know they were doing in-person classes,” she said.\nSubscribe to Block Club Chicago. Every dime we make funds reporting from Chicago’s neighborhoods.\nAlready subscribe? Click here to support Block Club with a tax-deductible donation.\n\n\n\n\n\t\t\tSign Up For Our Newsletter\t\t\n\n\n\t\t\t\tA daily dose of neighborhood news delivered to your inbox every morning.\t\t\t\n\n\n\nEmail Address\n\n\n\n\n\n\n\n\n\n\n\n\n\n\n\n\n\nShare this:Click to share on Facebook (Opens in new window)Click to share on Reddit (Opens in new window)Click to share on Twitter (Opens in new window)Click to share on WhatsApp (Opens in new window) \n\n\n\t\t\tSign Up For Our Newsletter\t\t\n\n\n\t\t\t\tA daily dose of neighborhood news delivered to your inbox every morning.\t\t\t\n\n\n\nEmail Address\n\n\n\n\n\n\n\n\n\n\n\n\n\n\n\n\n\n\n\n\t\t\t\t\tMauricio Peña\t\t\t\t\n@MauricioPena\n\n\n\n\n\t\t\t\t\t\tPilsen, Little Village and West Loop reporter\n\nmauricio@blockclubchi.org \n\n\t\t\t\t\t\tSee more\t\t\t\t\t\n\n\n\n\n\n\n\n\nCredibility Indicators\nThese are selected by the writer and confirmed by the editor\n\n\n\n\n\nOriginal Reporting\n\n–\n+\n\n\n\n\t\t\t\t\tThis article contains new, firsthand information uncovered by its reporter(s). This includes directly interviewing sources and research / analysis of primary source documents.\t\t\t\t\n\n\n\n\nSources Cited\n\n–\n+\n\n\n\n\t\t\t\t\tAs a news piece, this article cites verifiable, third-party sources which have all been thoroughly fact-checked and deemed credible by the Newsroom in accordance with the Civil Constitution.\t\t\t\t\n\n\n\t\t\tLearn more about Civil’s Credibility Indicators\t\t\n\n\n\n\n\n\n\n\n\n\n\n\n\n\n\n\n\nLogan Square, Humboldt Park, Avondale Primary category in which blog post is published \n\nBelmont Snack Shop, Destroyed In Fire, May Not Reopen, Owner Says: ‘There’s Nothing Salvageable’ \n\n\n\n\n\nMina Bloom\n\n\n\nThe 24-hour diner has been a neighborhood mainstay since the 1980s.\n\nPublished on Oct 9, 2020 3:00PM CDT \n\n\n\n\n\n \n\n\n\n\nDowntown Primary category in which blog post is published \n\n35 More People Die From Coronavirus In Illinois \n\n\n\n\n\nKelly Bauer\n\n\n\nMasking and social distancing can help put Chicago in a better place, the city's top doctor said: \"I cannot say strongly enough that the individual behaviors that people make every day are what drive our success or failure.\"\n\nPublished on Oct 9, 2020 12:50PM CDT \n\n\n\n\n\n \n\n\n\n\nJefferson Park, Portage Park Primary category in which blog post is published \n\nOwners Of Jefferson Park Ice Cream Shop Hospitalized After Violent Armed Robbery \n\n\n\n\n\nJoe Ward\n\n\n\nThe owners of El Sabor La Michoacanita were pistol whipped by a robber who made off with the store's cash.\n\nPublished on Oct 9, 2020 11:46AM CDT \n\n\n\n\n\n \n\n\n\n\n\n\n\n\n\n\n\n \n\n\nAbout UsOur Mission\nOur Team\nBoard of Directors\nContact Us\n \n\nCommunityFounding Members\nSupporters\nEvents\n \n\nSupport Us!Newsletter Signup\nPress\nOur Supporters\n \n\nSubscribe \n\n\t\t\t\t\t\t\tContact Us at newsroom@blockclubchi.org\t\t\t\t\t\t\n\n\n\n\n\t\t\tCopyright © 2020 Block Club Chicago\t\t\n\n\n\n\n\n\n\n \n\nAbout\nCivil Constitution\nFAQ\n\n\n\n\n\n\nHave a Problem?\n\n\nContact Civil\n\n\n\n\n\n\n\n\n\n\n\n\n\n\n\n\n\n"
     ]
    }
   ],
   "source": [
    "#Set up list\n",
    "gallery = \"gallery&400\"\n",
    "\n",
    "UIC = 'UIC'\n",
    "\n",
    "chicago = 'chicago'\n",
    "\n",
    "usa = 'usa'\n",
    "\n",
    "\n",
    "#get number\n",
    "number = 40\n",
    "\n",
    "#move through list\n",
    "search = UIC\n",
    "article = []\n",
    "results = 100 # valid options 10, 20, 30, 40, 50, and 100\n",
    "page = requests.get(f\"https://www.google.com/search?q={search}&num={results}\")\n",
    "soup = BeautifulSoup(page.content, \"html.parser\")\n",
    "links = soup.findAll(\"a\")\n",
    "for link in links :\n",
    "    link_href = link.get('href')\n",
    "    if \"url?q=\" in link_href and not \"webcache\" in link_href:\n",
    "        article.append((link.get('href').split(\"?q=\")[1].split(\"&sa=U\")[0]))\n",
    "\n",
    "page = requests.get(f'{article[number]}')\n",
    "soup = BeautifulSoup(page.text, 'html.parser')\n",
    "print(soup.text)\n",
    "\n"
   ]
  },
  {
   "cell_type": "code",
   "execution_count": null,
   "metadata": {},
   "outputs": [],
   "source": []
  }
 ]
}